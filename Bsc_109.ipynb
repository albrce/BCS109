{
  "nbformat": 4,
  "nbformat_minor": 0,
  "metadata": {
    "colab": {
      "name": "Bsc 109 ",
      "provenance": [],
      "authorship_tag": "ABX9TyOpyLdq11YcQvwsnRIH+dNn",
      "include_colab_link": true
    },
    "kernelspec": {
      "name": "python3",
      "display_name": "Python 3"
    },
    "language_info": {
      "name": "python"
    }
  },
  "cells": [
    {
      "cell_type": "markdown",
      "metadata": {
        "id": "view-in-github",
        "colab_type": "text"
      },
      "source": [
        "<a href=\"https://colab.research.google.com/github/albrce/BCS109/blob/master/Bsc_109.ipynb\" target=\"_parent\"><img src=\"https://colab.research.google.com/assets/colab-badge.svg\" alt=\"Open In Colab\"/></a>"
      ]
    },
    {
      "cell_type": "code",
      "metadata": {
        "colab": {
          "base_uri": "https://localhost:8080/"
        },
        "id": "obf0b7xLehN0",
        "outputId": "aebfe8a9-8dc9-4540-95ca-d926c2fb5f5b"
      },
      "source": [
        "#Software discounts per package\n",
        "package = 99\n",
        "quantity = int(input(\"How many would you like to purchase?\\n\"))\n",
        "discount = 0\n",
        "if quantity >= 10 and quantity <= 19:\n",
        "  discount = .1\n",
        "elif quantity >= 20 and quantity <= 49:\n",
        "  discount = .2\n",
        "elif quantity >= 50 and quantity <= 99:\n",
        "  discount = .3\n",
        "elif quantity >= 100:\n",
        "  discount = .4\n",
        "total_amount = package*quantity*(1-discount)\n",
        "print(\"Total price is $\",total_amount)\n",
        "print(\"Amount saved is $\", discount*100, \"%.\")"
      ],
      "execution_count": 4,
      "outputs": [
        {
          "output_type": "stream",
          "name": "stdout",
          "text": [
            "How many would you like to purchase?\n",
            "23\n",
            "Total price is $ 1821.6000000000001\n",
            "Amount saved is $ 20.0 %.\n"
          ]
        }
      ]
    },
    {
      "cell_type": "code",
      "metadata": {
        "colab": {
          "base_uri": "https://localhost:8080/"
        },
        "id": "J8uvDl596TIw",
        "outputId": "3a274f62-e936-4b51-abbb-c7841644c904"
      },
      "source": [
        "#Fast Frieght Shipping Charges\n",
        "pounds = int(input(\"How much does it weigh in pounds?\\n\"))\n",
        "rate = 0\n",
        "if pounds > 0 and  pounds <= 2:\n",
        "  rate = 1.5\n",
        "elif pounds > 2 and pounds <= 6:\n",
        "  rate = 3\n",
        "elif pounds > 6 and pounds <= 10:\n",
        "  rate = 4\n",
        "elif pounds > 10:\n",
        "  rate = 4.75\n",
        "total_amount = pounds*rate\n",
        "print(\"Total cost is $\", total_amount)"
      ],
      "execution_count": 3,
      "outputs": [
        {
          "output_type": "stream",
          "name": "stdout",
          "text": [
            "How much does it weigh in pounds?\n",
            "8\n",
            "Total cost is $ 32\n"
          ]
        }
      ]
    }
  ]
}