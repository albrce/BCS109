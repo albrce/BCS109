{
  "nbformat": 4,
  "nbformat_minor": 0,
  "metadata": {
    "colab": {
      "name": "Untitled0.ipynb",
      "provenance": [],
      "collapsed_sections": []
    },
    "kernelspec": {
      "name": "python3",
      "display_name": "Python 3"
    }
  },
  "cells": [
    {
      "cell_type": "code",
      "metadata": {
        "id": "frkamdE4MTTH",
        "colab_type": "code",
        "colab": {
          "base_uri": "https://localhost:8080/",
          "height": 91
        },
        "outputId": "008a0c44-6e4f-489b-cffc-b0657dcab0fd"
      },
      "source": [
        "amount_of_packages = int(input(\"What\\'s the amount of packages you bought?\"))\n",
        "package_price = 99\n",
        "if amount_of_packages < 10:\n",
        "  discount = 0;\n",
        "elif amount_of_packages >=10 and amount_of_packages <=19:\n",
        "  discount = 0.10\n",
        "elif amount_of_packages >=20 and amount_of_packages <=49:\n",
        "  discount = 0.20\n",
        "elif amount_of_packages >=50 and amount_of_packages <=99:\n",
        "  discount = 0.30\n",
        "elif amount_of_packages >=100:\n",
        "  discount = 0.40\n",
        "\n",
        "subtotal = package_price * amount_of_packages\n",
        "discount_amount = discount * subtotal\n",
        "total = subtotal - discount_amount\n",
        "\n",
        "print(\"subtotal: $\" + format( subtotal, \",.2f\") + \\\n",
        "      \"\\ndiscount_amount: $\" + format(discount_amount, \",.2f\") + \\\n",
        "      \"\\ntotal: $\" +format(total, \",.2f\"))"
      ],
      "execution_count": 45,
      "outputs": [
        {
          "output_type": "stream",
          "text": [
            "What's the amount of packages you bought?32\n",
            "subtotal: $3,168.00\n",
            "discount_amount: $633.60\n",
            "total: $2,534.40\n"
          ],
          "name": "stdout"
        }
      ]
    }
  ]
}