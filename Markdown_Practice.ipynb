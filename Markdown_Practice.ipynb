{
  "nbformat": 4,
  "nbformat_minor": 0,
  "metadata": {
    "colab": {
      "name": "Markdown Practice",
      "provenance": [],
      "authorship_tag": "ABX9TyOGMMaTkBtfxcRWAJMsU4kV",
      "include_colab_link": true
    },
    "kernelspec": {
      "name": "python3",
      "display_name": "Python 3"
    },
    "language_info": {
      "name": "python"
    }
  },
  "cells": [
    {
      "cell_type": "markdown",
      "metadata": {
        "id": "view-in-github",
        "colab_type": "text"
      },
      "source": [
        "<a href=\"https://colab.research.google.com/github/albrce/BCS109/blob/master/Markdown_Practice.ipynb\" target=\"_parent\"><img src=\"https://colab.research.google.com/assets/colab-badge.svg\" alt=\"Open In Colab\"/></a>"
      ]
    },
    {
      "cell_type": "code",
      "metadata": {
        "id": "08AcIzXDf0v7"
      },
      "source": [
        ""
      ],
      "execution_count": null,
      "outputs": []
    },
    {
      "cell_type": "markdown",
      "metadata": {
        "id": "diXEqDiPhTiA"
      },
      "source": [
        "#Hello!\n",
        "My name is **Crystal Albrecht**, and I am 22yrs old. I am currently watching *The Handmaid's Tale* on Hulu.\n",
        "##I Have 2 pets\n",
        "*Cats*\n",
        "1. Shinra (Boy)\n",
        "2. Blair (Girl)\n",
        "\n",
        "~~They are siblings~~"
      ]
    }
  ]
}