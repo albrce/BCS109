{
  "nbformat": 4,
  "nbformat_minor": 0,
  "metadata": {
    "colab": {
      "name": "Mod 8",
      "provenance": [],
      "authorship_tag": "ABX9TyNewTHUXd1DNQYoPLw1uSui",
      "include_colab_link": true
    },
    "kernelspec": {
      "name": "python3",
      "display_name": "Python 3"
    },
    "language_info": {
      "name": "python"
    }
  },
  "cells": [
    {
      "cell_type": "markdown",
      "metadata": {
        "id": "view-in-github",
        "colab_type": "text"
      },
      "source": [
        "<a href=\"https://colab.research.google.com/github/albrce/BCS109/blob/master/Mod_8.ipynb\" target=\"_parent\"><img src=\"https://colab.research.google.com/assets/colab-badge.svg\" alt=\"Open In Colab\"/></a>"
      ]
    },
    {
      "cell_type": "code",
      "metadata": {
        "id": "aSU1mgLy0bQm",
        "colab": {
          "base_uri": "https://localhost:8080/"
        },
        "outputId": "d424d3ce-976b-4a8d-f0a0-c6932c0b8b39"
      },
      "source": [
        "# 1 average\n",
        "  return (x+y)/2\n",
        "num1 = int(input('give me a number\\t' ))\n",
        "num2 = int(input('give me a number\\t'))\n",
        "\n",
        "avg = func1(num1,num2)\n",
        "print(avg)"
      ],
      "execution_count": null,
      "outputs": [
        {
          "output_type": "stream",
          "name": "stdout",
          "text": [
            "give me a number\t6\n",
            "give me a number\t7\n",
            "6.5\n"
          ]
        }
      ]
    },
    {
      "cell_type": "code",
      "metadata": {
        "colab": {
          "base_uri": "https://localhost:8080/"
        },
        "id": "7M_Em8dy81qp",
        "outputId": "3bebf8c9-0a1b-47dc-ad26-d69161a5b0ab"
      },
      "source": [
        "#2 sum\n",
        "def sum(x,y):\n",
        "  total = 0\n",
        "  if (x < y ):\n",
        "    for x in range(x, y +1):\n",
        "      total = total + x\n",
        "  elif (y < x ):\n",
        "    for y in range(y, x + 1):\n",
        "      total = total + y\n",
        "  print(total)\n",
        "sum(10,7)\n"
      ],
      "execution_count": 5,
      "outputs": [
        {
          "output_type": "stream",
          "name": "stdout",
          "text": [
            "34\n"
          ]
        }
      ]
    },
    {
      "cell_type": "code",
      "metadata": {
        "id": "mpwKCybw_5nh",
        "colab": {
          "base_uri": "https://localhost:8080/"
        },
        "outputId": "42075ac8-c222-41f0-a261-bb5c47d0ef17"
      },
      "source": [
        "# 3 item cost\n",
        "def totalCost(itemCost, percentOff, tax):\n",
        "  percentConversion = percentOff/ 100\n",
        "  percent = 1- percentConversion\n",
        "  discounteCost = percent * itemCost\n",
        "  taxConversion = tax/ 100\n",
        "  tax = 1+ taxConversion\n",
        "  taxedCost = discounteCost * tax \n",
        "  print(taxedCost)\n",
        "\n",
        "totalCost(50, 20, 8)"
      ],
      "execution_count": 7,
      "outputs": [
        {
          "output_type": "stream",
          "name": "stdout",
          "text": [
            "43.2\n"
          ]
        }
      ]
    },
    {
      "cell_type": "code",
      "metadata": {
        "id": "FY5r3cQm1lZZ"
      },
      "source": [
        "#4 prime numbers\n",
        "def isPrime(num):\n",
        "  for i in range(2,num):\n",
        "    if (num % i == 0):\n",
        "      return False\n",
        "  return True\n",
        "\n",
        "def listPrimes(x,y):\n",
        "  for i in range(x, y+1):\n",
        "    if (isPrime(i)):\n",
        "      print(i, end = \"|\")\n",
        "listPrimes(2,1000)"
      ],
      "execution_count": null,
      "outputs": []
    },
    {
      "cell_type": "code",
      "metadata": {
        "id": "FyT5pZ1_3DzP"
      },
      "source": [
        "#5 co primes\n",
        "def coprime_test(num1, num2):\n",
        "  for i in range(2, num2+1):\n",
        "    if (num1%i == 0 and num2 % i ==0):\n",
        "      return False\n",
        "  return True \n",
        "\n",
        "def list_coprimes(x):\n",
        "  print(1)\n",
        "  for i in range(2,x):\n",
        "    if(coprime_test(x,i)):\n",
        "      print(i)\n",
        "list_coprimes(12)"
      ],
      "execution_count": null,
      "outputs": []
    },
    {
      "cell_type": "code",
      "metadata": {
        "id": "sBvN3V2E4co8"
      },
      "source": [
        "6\n",
        "def isTwinPrime(x):\n",
        "  if (isPrime(x) and isPrime(x+2)):\n",
        "    return True\n",
        "  return False\n",
        "\n",
        "def listTwinPrimes(x,y):\n",
        "  for i in range(x, y+1):\n",
        "    if (isTwinPrime(i)):\n",
        "      print(i, \"\",i+2)\n",
        "      i +=2\n",
        "listTwinPrimes(2,1000)"
      ],
      "execution_count": null,
      "outputs": []
    },
    {
      "cell_type": "code",
      "metadata": {
        "id": "u_0-d47s_Rs9",
        "colab": {
          "base_uri": "https://localhost:8080/"
        },
        "outputId": "0aedfac0-dacf-4241-f557-83f15de45f17"
      },
      "source": [
        "import random as r \n",
        "\n",
        "def rps():\n",
        "  rock_count = 0\n",
        "  paper_count = 0\n",
        "  scissors_count = 0 \n",
        "\n",
        "  for i in range(1000):\n",
        "    num1 = r.randint(1,3)\n",
        "    num2 = r.randint(1,3)\n",
        "\n",
        "    if (num1 ==num2):\n",
        "      continue\n",
        "    elif (num1 == 1 and num2 == 2):\n",
        "      paper_count +=1\n",
        "    elif(num1 ==1 and num2 ==3):\n",
        "      rock_count +=1\n",
        "    elif(num1 ==2 and num2 ==3):\n",
        "      scissors_count +=1\n",
        "\n",
        "  print(\"rock\", rock_count/1000)\n",
        "  print(\"scissors\", scissors_count/1000)\n",
        "  print(\"paper\", paper_count/1000)\n",
        "\n",
        "rps()\n",
        "\n"
      ],
      "execution_count": 8,
      "outputs": [
        {
          "output_type": "stream",
          "name": "stdout",
          "text": [
            "rock 0.116\n",
            "scissors 0.113\n",
            "paper 0.129\n"
          ]
        }
      ]
    }
  ]
}